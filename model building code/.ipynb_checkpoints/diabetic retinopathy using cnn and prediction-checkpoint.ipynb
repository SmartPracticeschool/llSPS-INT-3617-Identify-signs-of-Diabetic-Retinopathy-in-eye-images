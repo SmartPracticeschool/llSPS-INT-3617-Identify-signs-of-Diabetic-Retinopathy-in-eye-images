{
 "cells": [
  {
   "cell_type": "markdown",
   "metadata": {},
   "source": [
    "# import libraries\n"
   ]
  },
  {
   "cell_type": "code",
   "execution_count": null,
   "metadata": {},
   "outputs": [
    {
     "name": "stderr",
     "output_type": "stream",
     "text": [
      "Using TensorFlow backend.\n",
      "C:\\Users\\DELL\\anaconda3\\lib\\site-packages\\tensorflow\\python\\framework\\dtypes.py:516: FutureWarning: Passing (type, 1) or '1type' as a synonym of type is deprecated; in a future version of numpy, it will be understood as (type, (1,)) / '(1,)type'.\n",
      "  _np_qint8 = np.dtype([(\"qint8\", np.int8, 1)])\n",
      "C:\\Users\\DELL\\anaconda3\\lib\\site-packages\\tensorflow\\python\\framework\\dtypes.py:517: FutureWarning: Passing (type, 1) or '1type' as a synonym of type is deprecated; in a future version of numpy, it will be understood as (type, (1,)) / '(1,)type'.\n",
      "  _np_quint8 = np.dtype([(\"quint8\", np.uint8, 1)])\n",
      "C:\\Users\\DELL\\anaconda3\\lib\\site-packages\\tensorflow\\python\\framework\\dtypes.py:518: FutureWarning: Passing (type, 1) or '1type' as a synonym of type is deprecated; in a future version of numpy, it will be understood as (type, (1,)) / '(1,)type'.\n",
      "  _np_qint16 = np.dtype([(\"qint16\", np.int16, 1)])\n",
      "C:\\Users\\DELL\\anaconda3\\lib\\site-packages\\tensorflow\\python\\framework\\dtypes.py:519: FutureWarning: Passing (type, 1) or '1type' as a synonym of type is deprecated; in a future version of numpy, it will be understood as (type, (1,)) / '(1,)type'.\n",
      "  _np_quint16 = np.dtype([(\"quint16\", np.uint16, 1)])\n",
      "C:\\Users\\DELL\\anaconda3\\lib\\site-packages\\tensorflow\\python\\framework\\dtypes.py:520: FutureWarning: Passing (type, 1) or '1type' as a synonym of type is deprecated; in a future version of numpy, it will be understood as (type, (1,)) / '(1,)type'.\n",
      "  _np_qint32 = np.dtype([(\"qint32\", np.int32, 1)])\n",
      "C:\\Users\\DELL\\anaconda3\\lib\\site-packages\\tensorflow\\python\\framework\\dtypes.py:525: FutureWarning: Passing (type, 1) or '1type' as a synonym of type is deprecated; in a future version of numpy, it will be understood as (type, (1,)) / '(1,)type'.\n",
      "  np_resource = np.dtype([(\"resource\", np.ubyte, 1)])\n"
     ]
    }
   ],
   "source": [
    "from keras.models import Sequential\n",
    "from keras.layers import Dense\n",
    "from keras.layers import Convolution2D\n",
    "from keras.layers import MaxPooling2D\n",
    "from keras.layers import Flatten"
   ]
  },
  {
   "cell_type": "code",
   "execution_count": null,
   "metadata": {},
   "outputs": [],
   "source": [
    "from keras.preprocessing.image import ImageDataGenerator"
   ]
  },
  {
   "cell_type": "code",
   "execution_count": 3,
   "metadata": {},
   "outputs": [],
   "source": [
    "train_datagen = ImageDataGenerator(rescale = 1./255,\n",
    "                                   shear_range = 0.2,\n",
    "                                   zoom_range = 0.2,\n",
    "                                   horizontal_flip = True)\n",
    "\n",
    "test_datagen = ImageDataGenerator(rescale = 1./255)"
   ]
  },
  {
   "cell_type": "code",
   "execution_count": 4,
   "metadata": {},
   "outputs": [
    {
     "name": "stdout",
     "output_type": "stream",
     "text": [
      "Found 400 images belonging to 2 classes.\n",
      "Found 100 images belonging to 2 classes.\n"
     ]
    }
   ],
   "source": [
    "x_train = train_datagen.flow_from_directory(r\"E:\\pravalikabeeravelli\\flaskapp2\\Data Sets\\training_set\", target_size = (64,64),batch_size = 32)\n",
    "x_test = test_datagen.flow_from_directory(r\"E:\\pravalikabeeravelli\\flaskapp2\\Data Sets\\test_set\", target_size = (64,64),batch_size = 32)\n"
   ]
  },
  {
   "cell_type": "code",
   "execution_count": 5,
   "metadata": {},
   "outputs": [
    {
     "name": "stdout",
     "output_type": "stream",
     "text": [
      "WARNING:tensorflow:From C:\\Users\\DELL\\anaconda3\\lib\\site-packages\\keras\\backend\\tensorflow_backend.py:74: The name tf.get_default_graph is deprecated. Please use tf.compat.v1.get_default_graph instead.\n",
      "\n"
     ]
    }
   ],
   "source": [
    "model = Sequential()"
   ]
  },
  {
   "cell_type": "code",
   "execution_count": 6,
   "metadata": {},
   "outputs": [
    {
     "name": "stdout",
     "output_type": "stream",
     "text": [
      "WARNING:tensorflow:From C:\\Users\\DELL\\anaconda3\\lib\\site-packages\\keras\\backend\\tensorflow_backend.py:517: The name tf.placeholder is deprecated. Please use tf.compat.v1.placeholder instead.\n",
      "\n",
      "WARNING:tensorflow:From C:\\Users\\DELL\\anaconda3\\lib\\site-packages\\keras\\backend\\tensorflow_backend.py:4138: The name tf.random_uniform is deprecated. Please use tf.random.uniform instead.\n",
      "\n"
     ]
    }
   ],
   "source": [
    "model.add(Convolution2D(32,(3,3),input_shape=(64,64,3),activation=\"relu\"))"
   ]
  },
  {
   "cell_type": "code",
   "execution_count": 7,
   "metadata": {},
   "outputs": [
    {
     "name": "stdout",
     "output_type": "stream",
     "text": [
      "WARNING:tensorflow:From C:\\Users\\DELL\\anaconda3\\lib\\site-packages\\keras\\backend\\tensorflow_backend.py:3976: The name tf.nn.max_pool is deprecated. Please use tf.nn.max_pool2d instead.\n",
      "\n"
     ]
    }
   ],
   "source": [
    "model.add(MaxPooling2D(pool_size = (2, 2)))"
   ]
  },
  {
   "cell_type": "code",
   "execution_count": 8,
   "metadata": {},
   "outputs": [],
   "source": [
    "model.add(Flatten())"
   ]
  },
  {
   "cell_type": "code",
   "execution_count": 9,
   "metadata": {},
   "outputs": [
    {
     "name": "stderr",
     "output_type": "stream",
     "text": [
      "C:\\Users\\DELL\\anaconda3\\lib\\site-packages\\ipykernel_launcher.py:1: UserWarning: Update your `Dense` call to the Keras 2 API: `Dense(units=120, activation=\"relu\", kernel_initializer=\"random_uniform\")`\n",
      "  \"\"\"Entry point for launching an IPython kernel.\n"
     ]
    }
   ],
   "source": [
    "model.add(Dense(units = 120,init = \"random_uniform\",activation = \"relu\"))"
   ]
  },
  {
   "cell_type": "code",
   "execution_count": 10,
   "metadata": {},
   "outputs": [
    {
     "name": "stderr",
     "output_type": "stream",
     "text": [
      "C:\\Users\\DELL\\anaconda3\\lib\\site-packages\\ipykernel_launcher.py:1: UserWarning: Update your `Dense` call to the Keras 2 API: `Dense(units=180, activation=\"relu\", kernel_initializer=\"random_uniform\")`\n",
      "  \"\"\"Entry point for launching an IPython kernel.\n"
     ]
    }
   ],
   "source": [
    "model.add(Dense(units = 180,init = \"random_uniform\",activation = \"relu\"))"
   ]
  },
  {
   "cell_type": "code",
   "execution_count": 11,
   "metadata": {},
   "outputs": [
    {
     "name": "stderr",
     "output_type": "stream",
     "text": [
      "C:\\Users\\DELL\\anaconda3\\lib\\site-packages\\ipykernel_launcher.py:1: UserWarning: Update your `Dense` call to the Keras 2 API: `Dense(activation=\"sigmoid\", units=2, kernel_initializer=\"uniform\")`\n",
      "  \"\"\"Entry point for launching an IPython kernel.\n"
     ]
    }
   ],
   "source": [
    "model.add(Dense(init=\"uniform\",activation=\"sigmoid\",units=2))"
   ]
  },
  {
   "cell_type": "code",
   "execution_count": 12,
   "metadata": {},
   "outputs": [
    {
     "name": "stdout",
     "output_type": "stream",
     "text": [
      "WARNING:tensorflow:From C:\\Users\\DELL\\anaconda3\\lib\\site-packages\\keras\\optimizers.py:790: The name tf.train.Optimizer is deprecated. Please use tf.compat.v1.train.Optimizer instead.\n",
      "\n",
      "WARNING:tensorflow:From C:\\Users\\DELL\\anaconda3\\lib\\site-packages\\keras\\backend\\tensorflow_backend.py:3376: The name tf.log is deprecated. Please use tf.math.log instead.\n",
      "\n",
      "WARNING:tensorflow:From C:\\Users\\DELL\\anaconda3\\lib\\site-packages\\tensorflow\\python\\ops\\nn_impl.py:180: add_dispatch_support.<locals>.wrapper (from tensorflow.python.ops.array_ops) is deprecated and will be removed in a future version.\n",
      "Instructions for updating:\n",
      "Use tf.where in 2.0, which has the same broadcast rule as np.where\n"
     ]
    }
   ],
   "source": [
    "model.compile(loss=\"binary_crossentropy\",optimizer=\"sgd\",metrics=[\"accuracy\"])"
   ]
  },
  {
   "cell_type": "code",
   "execution_count": 13,
   "metadata": {},
   "outputs": [
    {
     "data": {
      "text/plain": [
       "{'drd': 0, 'no drd': 1}"
      ]
     },
     "execution_count": 13,
     "metadata": {},
     "output_type": "execute_result"
    }
   ],
   "source": [
    "x_train.class_indices"
   ]
  },
  {
   "cell_type": "code",
   "execution_count": 14,
   "metadata": {},
   "outputs": [
    {
     "name": "stdout",
     "output_type": "stream",
     "text": [
      "WARNING:tensorflow:From C:\\Users\\DELL\\anaconda3\\lib\\site-packages\\keras\\backend\\tensorflow_backend.py:986: The name tf.assign_add is deprecated. Please use tf.compat.v1.assign_add instead.\n",
      "\n",
      "Epoch 1/30\n",
      "47/47 [==============================] - 32s 688ms/step - loss: 0.6923 - acc: 0.5350 - val_loss: 0.6875 - val_acc: 0.6500\n",
      "Epoch 2/30\n",
      "47/47 [==============================] - 20s 429ms/step - loss: 0.6885 - acc: 0.5679 - val_loss: 0.6808 - val_acc: 0.6500\n",
      "Epoch 3/30\n",
      "47/47 [==============================] - 20s 420ms/step - loss: 0.6841 - acc: 0.5791 - val_loss: 0.6743 - val_acc: 0.6500\n",
      "Epoch 4/30\n",
      "47/47 [==============================] - 20s 420ms/step - loss: 0.6810 - acc: 0.5785 - val_loss: 0.6694 - val_acc: 0.6500\n",
      "Epoch 5/30\n",
      "47/47 [==============================] - 20s 422ms/step - loss: 0.6818 - acc: 0.5679 - val_loss: 0.6677 - val_acc: 0.6500\n",
      "Epoch 6/30\n",
      "47/47 [==============================] - 20s 419ms/step - loss: 0.6761 - acc: 0.5817 - val_loss: 0.6642 - val_acc: 0.6500\n",
      "Epoch 7/30\n",
      "47/47 [==============================] - 20s 417ms/step - loss: 0.6756 - acc: 0.5744 - val_loss: 0.6632 - val_acc: 0.6500\n",
      "Epoch 8/30\n",
      "47/47 [==============================] - 20s 420ms/step - loss: 0.6726 - acc: 0.5745 - val_loss: 0.6625 - val_acc: 0.6500\n",
      "Epoch 9/30\n",
      "47/47 [==============================] - 19s 413ms/step - loss: 0.6693 - acc: 0.5771 - val_loss: 0.6625 - val_acc: 0.6500\n",
      "Epoch 10/30\n",
      "47/47 [==============================] - 20s 417ms/step - loss: 0.6649 - acc: 0.5732 - val_loss: 0.6630 - val_acc: 0.6500\n",
      "Epoch 11/30\n",
      "47/47 [==============================] - 20s 422ms/step - loss: 0.6579 - acc: 0.5824 - val_loss: 0.6610 - val_acc: 0.6500\n",
      "Epoch 12/30\n",
      "47/47 [==============================] - 20s 419ms/step - loss: 0.6594 - acc: 0.5639 - val_loss: 0.6676 - val_acc: 0.6750\n",
      "Epoch 13/30\n",
      "47/47 [==============================] - 20s 421ms/step - loss: 0.6467 - acc: 0.6018 - val_loss: 0.6655 - val_acc: 0.6700\n",
      "Epoch 14/30\n",
      "47/47 [==============================] - 20s 418ms/step - loss: 0.6406 - acc: 0.6459 - val_loss: 0.6633 - val_acc: 0.6750\n",
      "Epoch 15/30\n",
      "47/47 [==============================] - 20s 425ms/step - loss: 0.6343 - acc: 0.6845 - val_loss: 0.6726 - val_acc: 0.6950\n",
      "Epoch 16/30\n",
      "47/47 [==============================] - 20s 420ms/step - loss: 0.6221 - acc: 0.7164 - val_loss: 0.6703 - val_acc: 0.6900\n",
      "Epoch 17/30\n",
      "47/47 [==============================] - 20s 418ms/step - loss: 0.6172 - acc: 0.7211 - val_loss: 0.6790 - val_acc: 0.6700\n",
      "Epoch 18/30\n",
      "47/47 [==============================] - 20s 415ms/step - loss: 0.6081 - acc: 0.7317 - val_loss: 0.6805 - val_acc: 0.6650\n",
      "Epoch 19/30\n",
      "47/47 [==============================] - 20s 426ms/step - loss: 0.5947 - acc: 0.7394 - val_loss: 0.6843 - val_acc: 0.6600\n",
      "Epoch 20/30\n",
      "47/47 [==============================] - 20s 426ms/step - loss: 0.5927 - acc: 0.7347 - val_loss: 0.6794 - val_acc: 0.6600\n",
      "Epoch 21/30\n",
      "47/47 [==============================] - 20s 428ms/step - loss: 0.5786 - acc: 0.7526 - val_loss: 0.6616 - val_acc: 0.7050\n",
      "Epoch 22/30\n",
      "47/47 [==============================] - 20s 426ms/step - loss: 0.5806 - acc: 0.7443 - val_loss: 0.6612 - val_acc: 0.6800\n",
      "Epoch 23/30\n",
      "47/47 [==============================] - 20s 415ms/step - loss: 0.5713 - acc: 0.7523 - val_loss: 0.6605 - val_acc: 0.6700\n",
      "Epoch 24/30\n",
      "47/47 [==============================] - 22s 463ms/step - loss: 0.5661 - acc: 0.7460 - val_loss: 0.6383 - val_acc: 0.6800\n",
      "Epoch 25/30\n",
      "47/47 [==============================] - 22s 464ms/step - loss: 0.5584 - acc: 0.7589 - val_loss: 0.6606 - val_acc: 0.6700\n",
      "Epoch 26/30\n",
      "47/47 [==============================] - 21s 447ms/step - loss: 0.5495 - acc: 0.7546 - val_loss: 0.6306 - val_acc: 0.6800\n",
      "Epoch 27/30\n",
      "47/47 [==============================] - 21s 437ms/step - loss: 0.5474 - acc: 0.7606 - val_loss: 0.6439 - val_acc: 0.6900\n",
      "Epoch 28/30\n",
      "47/47 [==============================] - 20s 422ms/step - loss: 0.5528 - acc: 0.7557 - val_loss: 0.6223 - val_acc: 0.7000\n",
      "Epoch 29/30\n",
      "47/47 [==============================] - 20s 426ms/step - loss: 0.5490 - acc: 0.7604 - val_loss: 0.6487 - val_acc: 0.6700\n",
      "Epoch 30/30\n",
      "47/47 [==============================] - 19s 410ms/step - loss: 0.5454 - acc: 0.7624 - val_loss: 0.6124 - val_acc: 0.7000\n"
     ]
    },
    {
     "data": {
      "text/plain": [
       "<keras.callbacks.History at 0x2853e4cb988>"
      ]
     },
     "execution_count": 14,
     "metadata": {},
     "output_type": "execute_result"
    }
   ],
   "source": [
    "model.fit_generator(x_train,steps_per_epoch=47,epochs = 30,validation_data = x_test, validation_steps = 20)"
   ]
  },
  {
   "cell_type": "code",
   "execution_count": 15,
   "metadata": {},
   "outputs": [],
   "source": [
    "model.save(\"mymodel.h5\")"
   ]
  },
  {
   "cell_type": "code",
   "execution_count": 16,
   "metadata": {},
   "outputs": [],
   "source": [
    "from keras.models import load_model\n",
    "from keras.preprocessing import image"
   ]
  },
  {
   "cell_type": "code",
   "execution_count": 17,
   "metadata": {},
   "outputs": [],
   "source": [
    "model = load_model(\"mymodel.h5\")"
   ]
  },
  {
   "cell_type": "code",
   "execution_count": 37,
   "metadata": {},
   "outputs": [],
   "source": [
    "img = image.load_img(r\"E:\\pravalikabeeravelli\\dreamstime_xxl_82470163-696x461.jpg\",target_size = (64,64))\n"
   ]
  },
  {
   "cell_type": "code",
   "execution_count": 38,
   "metadata": {},
   "outputs": [],
   "source": [
    "import numpy as np\n",
    "x= image.img_to_array(img)\n",
    "x=np.expand_dims(x,axis = 0)"
   ]
  },
  {
   "cell_type": "code",
   "execution_count": 39,
   "metadata": {},
   "outputs": [
    {
     "data": {
      "text/plain": [
       "(1, 64, 64, 3)"
      ]
     },
     "execution_count": 39,
     "metadata": {},
     "output_type": "execute_result"
    }
   ],
   "source": [
    "x.shape"
   ]
  },
  {
   "cell_type": "code",
   "execution_count": 40,
   "metadata": {},
   "outputs": [],
   "source": [
    "pred = model.predict_classes(x)"
   ]
  },
  {
   "cell_type": "code",
   "execution_count": 41,
   "metadata": {},
   "outputs": [
    {
     "data": {
      "text/plain": [
       "0"
      ]
     },
     "execution_count": 41,
     "metadata": {},
     "output_type": "execute_result"
    }
   ],
   "source": [
    "pred[0]"
   ]
  },
  {
   "cell_type": "code",
   "execution_count": 42,
   "metadata": {},
   "outputs": [],
   "source": [
    "index = [\"drd\",\"no drd\"]\n"
   ]
  },
  {
   "cell_type": "code",
   "execution_count": 46,
   "metadata": {},
   "outputs": [],
   "source": [
    "pred_class = index[pred[0]]"
   ]
  },
  {
   "cell_type": "code",
   "execution_count": 47,
   "metadata": {},
   "outputs": [
    {
     "data": {
      "text/plain": [
       "'drd'"
      ]
     },
     "execution_count": 47,
     "metadata": {},
     "output_type": "execute_result"
    }
   ],
   "source": [
    "pred_class"
   ]
  },
  {
   "cell_type": "code",
   "execution_count": null,
   "metadata": {},
   "outputs": [],
   "source": []
  },
  {
   "cell_type": "code",
   "execution_count": null,
   "metadata": {},
   "outputs": [],
   "source": []
  },
  {
   "cell_type": "code",
   "execution_count": null,
   "metadata": {},
   "outputs": [],
   "source": []
  }
 ],
 "metadata": {
  "kernelspec": {
   "display_name": "Python 3",
   "language": "python",
   "name": "python3"
  },
  "language_info": {
   "codemirror_mode": {
    "name": "ipython",
    "version": 3
   },
   "file_extension": ".py",
   "mimetype": "text/x-python",
   "name": "python",
   "nbconvert_exporter": "python",
   "pygments_lexer": "ipython3",
   "version": "3.7.6"
  }
 },
 "nbformat": 4,
 "nbformat_minor": 4
}
